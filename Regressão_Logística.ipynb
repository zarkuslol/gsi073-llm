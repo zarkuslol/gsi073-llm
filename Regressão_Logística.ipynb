{
  "nbformat": 4,
  "nbformat_minor": 0,
  "metadata": {
    "colab": {
      "provenance": [],
      "include_colab_link": true
    },
    "kernelspec": {
      "name": "python3",
      "display_name": "Python 3"
    },
    "language_info": {
      "name": "python"
    }
  },
  "cells": [
    {
      "cell_type": "markdown",
      "metadata": {
        "id": "view-in-github",
        "colab_type": "text"
      },
      "source": [
        "<a href=\"https://colab.research.google.com/github/zarkuslol/gsi073-llm/blob/main/Regress%C3%A3o_Log%C3%ADstica.ipynb\" target=\"_parent\"><img src=\"https://colab.research.google.com/assets/colab-badge.svg\" alt=\"Open In Colab\"/></a>"
      ]
    },
    {
      "cell_type": "markdown",
      "source": [
        "# GSI073 - Tópicos Especiais de Inteligência Artificial\n",
        "\n",
        "## Definição dos dados"
      ],
      "metadata": {
        "id": "Mwsc0ViVertv"
      }
    },
    {
      "cell_type": "code",
      "execution_count": 1,
      "metadata": {
        "id": "OmZxMYLGefOh"
      },
      "outputs": [],
      "source": [
        "import torch; import sklearn\n",
        "\n",
        "# 1. Carregar dados\n",
        "iris = sklearn.datasets.load_iris()\n",
        "X = iris.data        # 4 features: sépalas e pétalas\n",
        "y = (iris.target == 1).astype(float)  # 1 se Versicolor, 0 caso contrário\n",
        "\n",
        "# 2. Preparar dados para pytorch\n",
        "X = torch.tensor(X, dtype=torch.float32)\n",
        "y = torch.tensor(y, dtype=torch.float32).view(-1, 1)"
      ]
    },
    {
      "cell_type": "markdown",
      "source": [
        "## Definição do modelo e treinamento"
      ],
      "metadata": {
        "id": "nUv-LKlIe9Id"
      }
    },
    {
      "cell_type": "code",
      "source": [
        "# 3. Definir modelo: regressão logística\n",
        "modelo = torch.nn.Linear(4, 1)  # 4 features → 1 saída (probabilidade de ser Versicolor)\n",
        "\n",
        "# 4. Definir função de perda e algoritmo de otimização\n",
        "funcao_perda = torch.nn.BCEWithLogitsLoss()  # combinação de sigmoid + BCE\n",
        "optimizer = torch.optim.SGD(modelo.parameters(), lr=0.1)"
      ],
      "metadata": {
        "id": "eg97DxIbe0tV"
      },
      "execution_count": 2,
      "outputs": []
    },
    {
      "cell_type": "markdown",
      "source": [
        "## Execução do treinamento"
      ],
      "metadata": {
        "id": "Agjn3aQxfHOO"
      }
    },
    {
      "cell_type": "code",
      "source": [
        "# 5. Treino\n",
        "for epoch in range(1000):\n",
        "    optimizer.zero_grad() # reseta gradiente senão acumula\n",
        "    outputs = modelo(X)\n",
        "    loss = funcao_perda(outputs, y)\n",
        "    loss.backward()\n",
        "    optimizer.step()\n",
        "\n",
        "    if (epoch + 1) % 10 == 0:\n",
        "        print(f\"Época [{epoch+1}/100], Loss: {loss.item():.4f}\")"
      ],
      "metadata": {
        "id": "uuksjyq7e4Mt",
        "colab": {
          "base_uri": "https://localhost:8080/"
        },
        "outputId": "8cf3c619-87a5-4cfc-a258-f24b6f7b43f2"
      },
      "execution_count": 3,
      "outputs": [
        {
          "output_type": "stream",
          "name": "stdout",
          "text": [
            "Época [10/100], Loss: 0.6845\n",
            "Época [20/100], Loss: 0.6263\n",
            "Época [30/100], Loss: 0.6031\n",
            "Época [40/100], Loss: 0.5924\n",
            "Época [50/100], Loss: 0.5865\n",
            "Época [60/100], Loss: 0.5826\n",
            "Época [70/100], Loss: 0.5797\n",
            "Época [80/100], Loss: 0.5772\n",
            "Época [90/100], Loss: 0.5750\n",
            "Época [100/100], Loss: 0.5730\n",
            "Época [110/100], Loss: 0.5711\n",
            "Época [120/100], Loss: 0.5693\n",
            "Época [130/100], Loss: 0.5676\n",
            "Época [140/100], Loss: 0.5659\n",
            "Época [150/100], Loss: 0.5643\n",
            "Época [160/100], Loss: 0.5627\n",
            "Época [170/100], Loss: 0.5612\n",
            "Época [180/100], Loss: 0.5597\n",
            "Época [190/100], Loss: 0.5583\n",
            "Época [200/100], Loss: 0.5570\n",
            "Época [210/100], Loss: 0.5556\n",
            "Época [220/100], Loss: 0.5543\n",
            "Época [230/100], Loss: 0.5531\n",
            "Época [240/100], Loss: 0.5519\n",
            "Época [250/100], Loss: 0.5507\n",
            "Época [260/100], Loss: 0.5496\n",
            "Época [270/100], Loss: 0.5485\n",
            "Época [280/100], Loss: 0.5474\n",
            "Época [290/100], Loss: 0.5464\n",
            "Época [300/100], Loss: 0.5454\n",
            "Época [310/100], Loss: 0.5444\n",
            "Época [320/100], Loss: 0.5435\n",
            "Época [330/100], Loss: 0.5426\n",
            "Época [340/100], Loss: 0.5417\n",
            "Época [350/100], Loss: 0.5408\n",
            "Época [360/100], Loss: 0.5400\n",
            "Época [370/100], Loss: 0.5392\n",
            "Época [380/100], Loss: 0.5384\n",
            "Época [390/100], Loss: 0.5376\n",
            "Época [400/100], Loss: 0.5369\n",
            "Época [410/100], Loss: 0.5362\n",
            "Época [420/100], Loss: 0.5355\n",
            "Época [430/100], Loss: 0.5348\n",
            "Época [440/100], Loss: 0.5341\n",
            "Época [450/100], Loss: 0.5335\n",
            "Época [460/100], Loss: 0.5329\n",
            "Época [470/100], Loss: 0.5322\n",
            "Época [480/100], Loss: 0.5317\n",
            "Época [490/100], Loss: 0.5311\n",
            "Época [500/100], Loss: 0.5305\n",
            "Época [510/100], Loss: 0.5300\n",
            "Época [520/100], Loss: 0.5294\n",
            "Época [530/100], Loss: 0.5289\n",
            "Época [540/100], Loss: 0.5284\n",
            "Época [550/100], Loss: 0.5279\n",
            "Época [560/100], Loss: 0.5274\n",
            "Época [570/100], Loss: 0.5270\n",
            "Época [580/100], Loss: 0.5265\n",
            "Época [590/100], Loss: 0.5261\n",
            "Época [600/100], Loss: 0.5256\n",
            "Época [610/100], Loss: 0.5252\n",
            "Época [620/100], Loss: 0.5248\n",
            "Época [630/100], Loss: 0.5244\n",
            "Época [640/100], Loss: 0.5240\n",
            "Época [650/100], Loss: 0.5236\n",
            "Época [660/100], Loss: 0.5232\n",
            "Época [670/100], Loss: 0.5229\n",
            "Época [680/100], Loss: 0.5225\n",
            "Época [690/100], Loss: 0.5222\n",
            "Época [700/100], Loss: 0.5218\n",
            "Época [710/100], Loss: 0.5215\n",
            "Época [720/100], Loss: 0.5211\n",
            "Época [730/100], Loss: 0.5208\n",
            "Época [740/100], Loss: 0.5205\n",
            "Época [750/100], Loss: 0.5202\n",
            "Época [760/100], Loss: 0.5199\n",
            "Época [770/100], Loss: 0.5196\n",
            "Época [780/100], Loss: 0.5193\n",
            "Época [790/100], Loss: 0.5190\n",
            "Época [800/100], Loss: 0.5188\n",
            "Época [810/100], Loss: 0.5185\n",
            "Época [820/100], Loss: 0.5182\n",
            "Época [830/100], Loss: 0.5180\n",
            "Época [840/100], Loss: 0.5177\n",
            "Época [850/100], Loss: 0.5175\n",
            "Época [860/100], Loss: 0.5172\n",
            "Época [870/100], Loss: 0.5170\n",
            "Época [880/100], Loss: 0.5167\n",
            "Época [890/100], Loss: 0.5165\n",
            "Época [900/100], Loss: 0.5163\n",
            "Época [910/100], Loss: 0.5161\n",
            "Época [920/100], Loss: 0.5159\n",
            "Época [930/100], Loss: 0.5156\n",
            "Época [940/100], Loss: 0.5154\n",
            "Época [950/100], Loss: 0.5152\n",
            "Época [960/100], Loss: 0.5150\n",
            "Época [970/100], Loss: 0.5148\n",
            "Época [980/100], Loss: 0.5146\n",
            "Época [990/100], Loss: 0.5144\n",
            "Época [1000/100], Loss: 0.5142\n"
          ]
        }
      ]
    }
  ]
}
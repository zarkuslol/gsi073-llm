{
  "nbformat": 4,
  "nbformat_minor": 0,
  "metadata": {
    "colab": {
      "private_outputs": true,
      "provenance": [],
      "include_colab_link": true
    },
    "kernelspec": {
      "name": "python3",
      "display_name": "Python 3"
    },
    "language_info": {
      "name": "python"
    }
  },
  "cells": [
    {
      "cell_type": "markdown",
      "metadata": {
        "id": "view-in-github",
        "colab_type": "text"
      },
      "source": [
        "<a href=\"https://colab.research.google.com/github/zarkuslol/gsi073-llm/blob/main/Support_Vector_Machines.ipynb\" target=\"_parent\"><img src=\"https://colab.research.google.com/assets/colab-badge.svg\" alt=\"Open In Colab\"/></a>"
      ]
    },
    {
      "cell_type": "markdown",
      "source": [
        "# GSI073 - Tópicos Especiais de Inteligência Artificial\n",
        "\n",
        "Neste notebook, um tipo de Support Vector Machine Linear.\n",
        "\n",
        "\n",
        "## Preparação dos dados"
      ],
      "metadata": {
        "id": "Mwsc0ViVertv"
      }
    },
    {
      "cell_type": "code",
      "execution_count": null,
      "metadata": {
        "id": "OmZxMYLGefOh"
      },
      "outputs": [],
      "source": [
        "import torch\n",
        "import torch.nn as nn\n",
        "import torch.optim as optim\n",
        "from sklearn import datasets\n",
        "\n",
        "# Preparar o dataset\n",
        "iris = datasets.load_iris()\n",
        "X = iris.data; y = iris.target\n",
        "\n",
        "X = X[y != 1] ; y = y[y != 1] # versicolor\n",
        "y = torch.tensor(y, dtype=torch.float32)\n",
        "y[y == 0] = -1  # SVM espera rótulos em {-1, +1}\n",
        "\n",
        "X = torch.tensor(X, dtype=torch.float32) # Tensor é um tipo especial que suporta muitas dimensões"
      ]
    },
    {
      "cell_type": "markdown",
      "source": [
        "A nossa Support Vector Machine é basicamente um hiperplano definido por *w* e *b* que melhor separa as classes."
      ],
      "metadata": {
        "id": "nUv-LKlIe9Id"
      }
    },
    {
      "cell_type": "code",
      "source": [
        "# Definir parâmetros treináveis da Support Vector Machine: w e b\n",
        "n_features = X.shape[1]\n",
        "w = torch.randn(n_features, 1, requires_grad=True)\n",
        "b = torch.zeros(1, requires_grad=True)\n",
        "\n",
        "# === Hiperparâmetros ===\n",
        "learning_rate = 0.01\n",
        "epochs = 300\n",
        "optimizer = optim.Adam([w, b], lr=learning_rate)"
      ],
      "metadata": {
        "id": "eg97DxIbe0tV"
      },
      "execution_count": null,
      "outputs": []
    },
    {
      "cell_type": "markdown",
      "source": [
        "## Execução do treinamento"
      ],
      "metadata": {
        "id": "Agjn3aQxfHOO"
      }
    },
    {
      "cell_type": "code",
      "source": [
        "for epoch in range(epochs):\n",
        "    optimizer.zero_grad()\n",
        "\n",
        "    y_pred = X @ w + b  # Modelo SVM (um hiperplano que depende de w e b)\n",
        "\n",
        "    # Hinge loss: max(0, 1 - y_i * (w^T x_i + b))\n",
        "    perda_de_classificacao = torch.clamp(1 - y.view(-1, 1) * y_pred, min=0).mean()\n",
        "\n",
        "    # Termo de regularização\n",
        "    perda_de_distancia_entre_classes = 0.5 * torch.sum(w ** 2) # 2/||w|| é a distância que queremos que seja a maior possível\n",
        "\n",
        "    # Função objetivo tradicional: minimizar reg + C * hinge\n",
        "    loss = perda_de_distancia_entre_classes + perda_de_classificacao\n",
        "\n",
        "    loss.backward()\n",
        "    optimizer.step()\n",
        "\n",
        "    if (epoch + 1) % 100 == 0:\n",
        "        print(f\"Epoch {epoch+1}/{epochs}, Loss={loss.item():.4f}\")"
      ],
      "metadata": {
        "id": "uuksjyq7e4Mt"
      },
      "execution_count": null,
      "outputs": []
    }
  ]
}